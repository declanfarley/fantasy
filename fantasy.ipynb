{
 "cells": [
  {
   "cell_type": "code",
   "execution_count": 1,
   "id": "177f6fd4",
   "metadata": {},
   "outputs": [],
   "source": [
    "import pandas as pd \n",
    "import requests\n",
    "import time"
   ]
  },
  {
   "cell_type": "code",
   "execution_count": 2,
   "id": "a757a27c",
   "metadata": {},
   "outputs": [],
   "source": [
    "PPR = 1\n",
    "PPY = 0.1\n",
    "PP_TD = 6\n",
    "PP_FMBL = -2\n",
    "PP_INT = -2\n",
    "PP_PYD = 0.04\n",
    "PP_PTD = 4\n"
   ]
  },
  {
   "cell_type": "code",
   "execution_count": 3,
   "id": "beaddec5",
   "metadata": {},
   "outputs": [],
   "source": [
    "def load_fantasy_data(year):\n",
    "    url = f\"https://www.pro-football-reference.com/years/{year}/fantasy.htm#fantasy\"\n",
    "\n",
    "    # df = pd.read_html(url, header=1)[0]\n",
    "    df = pd.read_csv(f\"fantasy_{year}.csv\")\n",
    "    \n",
    "    # df = df[df['Rk'] != 'Rk']\n",
    "    # df.to_csv(f\"fantasy_{year}.csv\", index=False)\n",
    "    # print(df.iloc[0])\n",
    "    return df"
   ]
  },
  {
   "cell_type": "code",
   "execution_count": 4,
   "id": "e6f7a883",
   "metadata": {},
   "outputs": [
    {
     "data": {
      "text/plain": [
       "Rk                      2\n",
       "Player     Derrick Henry*\n",
       "Tm                    BAL\n",
       "FantPos                RB\n",
       "Age                    30\n",
       "G                      17\n",
       "GS                     17\n",
       "Cmp                   0.0\n",
       "Att                   0.0\n",
       "Yds                   0.0\n",
       "TD                    0.0\n",
       "Int                   0.0\n",
       "Att.1               325.0\n",
       "Yds.1              1921.0\n",
       "Y/A                  5.91\n",
       "TD.1                 16.0\n",
       "Tgt                  22.0\n",
       "Rec                  19.0\n",
       "Yds.2               193.0\n",
       "Y/R                 10.16\n",
       "TD.2                  2.0\n",
       "Fmb                   3.0\n",
       "FL                    1.0\n",
       "TD.3                   18\n",
       "2PM                   NaN\n",
       "2PP                   NaN\n",
       "FantPt              317.0\n",
       "PPR                 336.4\n",
       "DKPt                343.4\n",
       "FDPt                326.9\n",
       "VBD                 159.0\n",
       "PosRank                 2\n",
       "OvRank                2.0\n",
       "Name: 1, dtype: object"
      ]
     },
     "execution_count": 4,
     "metadata": {},
     "output_type": "execute_result"
    }
   ],
   "source": [
    "df = load_fantasy_data(2024)\n",
    "\n",
    "players = df[\"Player\"]\n",
    "\n",
    "df.iloc[1]"
   ]
  },
  {
   "cell_type": "code",
   "execution_count": 5,
   "id": "e4f5e153",
   "metadata": {},
   "outputs": [],
   "source": [
    "# overlap = 0\n",
    "# for i in range(len(players) + int(len(players) / 30)):\n",
    "#     # print(df.iloc[i])\n",
    "#     if i  % 31 != 29:\n",
    "        \n",
    "#         # print(df.iloc[i])\n",
    "#         pts = int(df.iloc[i-overlap]['Yds']) * PP_PYD + int(df.iloc[i-overlap]['TD']) * PP_PTD + int(df.iloc[i-overlap]['Int']) * PP_INT + int(df.iloc[i-overlap]['FL']) * PP_FMBL + int(df.iloc[i-overlap]['Rec']) * PPR + int(df.iloc[i-overlap]['Yds.1']) * PPY + int(df.iloc[i-overlap]['Yds.2']) * PPY + int(df.iloc[i-overlap]['TD.1']) * PP_TD + int(df.iloc[i-overlap]['TD.2']) * PP_TD\n",
    "#         if pd.isna((df.iloc[i-overlap]['2PM'])) is False:\n",
    "#             pts += int(df.iloc[i-overlap]['2PM']) * 2\n",
    "#         players[i] = (players[i], df.iloc[i - overlap]['Tm'], pts)\n",
    "#     else: \n",
    "#         overlap += 1\n",
    "#     #     print(df.iloc[i])\n",
    "#     #     players[i] = (players[i], df.iloc[i]['Tm'])\n"
   ]
  },
  {
   "cell_type": "code",
   "execution_count": 6,
   "id": "236e41a7",
   "metadata": {},
   "outputs": [],
   "source": [
    "players = []\n",
    "for i in range(1970,2025):\n",
    "    df = load_fantasy_data(i)\n",
    "    players.append(df[\"Player\"].copy())\n",
    "    overlap = 0\n",
    "    # for j in range(len(players[i-1970]) + int(len(players[i-1970]) / 30)):\n",
    "    for j in range(len(players[i-1970])):\n",
    "        # if j  % 31 != 29:\n",
    "        pts = 0\n",
    "        if pd.isna((df.iloc[j-overlap]['Yds'])) is False:\n",
    "            pts += int(df.iloc[j-overlap]['Yds']) * PP_PYD \n",
    "        if pd.isna((df.iloc[j-overlap]['TD'])) is False:\n",
    "            pts += int(df.iloc[j-overlap]['TD']) * PP_PTD \n",
    "        if pd.isna((df.iloc[j-overlap]['Int'])) is False:\n",
    "            pts += int(df.iloc[j-overlap]['Int']) * PP_INT \n",
    "        if pd.isna((df.iloc[j-overlap]['FL'])) is False:\n",
    "            pts += int(df.iloc[j-overlap]['FL']) * PP_FMBL \n",
    "        if pd.isna((df.iloc[j-overlap]['Rec'])) is False:\n",
    "            pts += int(df.iloc[j-overlap]['Rec']) * PPR \n",
    "        if pd.isna((df.iloc[j-overlap]['Yds.1'])) is False:\n",
    "            pts += int(df.iloc[j-overlap]['Yds.1']) * PPY \n",
    "        if pd.isna((df.iloc[j-overlap]['Yds.2'])) is False:\n",
    "            pts += int(df.iloc[j-overlap]['Yds.2']) * PPY \n",
    "        if pd.isna((df.iloc[j-overlap]['TD.1'])) is False:\n",
    "            pts += int(df.iloc[j-overlap]['TD.1']) * PP_TD \n",
    "        if pd.isna((df.iloc[j-overlap]['TD.2'])) is False:\n",
    "            pts += int(df.iloc[j-overlap]['TD.2']) * PP_TD\n",
    "        if pd.isna((df.iloc[j-overlap]['2PM'])) is False:\n",
    "            pts += int(df.iloc[j-overlap]['2PM']) * 2\n",
    "        # players[i-1970][j] = (players[i-1970][j], i, df.iloc[j]['Tm'], pts)\n",
    "        players[i-1970][j] = (df.iloc[j]['Player'], i, df.iloc[j]['FantPos'],df.iloc[j]['Tm'], pts)\n",
    "        # else: \n",
    "        #     overlap += 1\n",
    "            "
   ]
  },
  {
   "cell_type": "code",
   "execution_count": 45,
   "id": "59eb19de",
   "metadata": {},
   "outputs": [
    {
     "name": "stdout",
     "output_type": "stream",
     "text": [
      "('Dawson Knox', 2021, 'TE', 'BUF', 162.1)\n",
      "('David Nelson', 2011, 'TE', 'BUF', 156.8)\n",
      "('Dalton Kincaid', 2023, 'TE', 'BUF', 150.3)\n",
      "('Charles Clay', 2016, 'TE', 'BUF', 136.2)\n",
      "('Dawson Knox*', 2022, 'TE', 'BUF', 135.7)\n",
      "('Scott Chandler', 2012, 'TE', 'BUF', 134.1)\n",
      "('Jay Riemersma', 2001, 'TE', 'BUF', 130.0)\n",
      "('Scott Chandler', 2013, 'TE', 'BUF', 128.5)\n",
      "('Charles Clay', 2015, 'TE', 'BUF', 121.80000000000001)\n",
      "('Charles Clay', 2017, 'TE', 'BUF', 116.80000000000001)\n",
      "('Scott Chandler', 2014, 'TE', 'BUF', 114.7)\n",
      "('Scott Chandler', 2011, 'TE', 'BUF', 110.9)\n",
      "('Dalton Kincaid', 2024, 'TE', 'BUF', 100.80000000000001)\n",
      "('David Nelson', 2010, 'TE', 'BUF', 84.30000000000001)\n",
      "('Dawson Knox', 2019, 'TE', 'BUF', 79.7)\n",
      "('Mark Campbell', 2003, 'TE', 'BUF', 73.9)\n",
      "('Robert Royal', 2008, 'TE', 'BUF', 70.1)\n",
      "('Mark Campbell', 2004, 'TE', 'BUF', 67.3)\n",
      "('Jay Riemersma', 2002, 'TE', 'BUF', 67.0)\n",
      "('Dawson Knox', 2020, 'TE', 'BUF', 66.8)\n",
      "('Robert Royal', 2007, 'TE', 'BUF', 63.8)\n",
      "('Robert Royal', 2006, 'TE', 'BUF', 63.400000000000006)\n",
      "('Dawson Knox', 2024, 'TE', 'BUF', 59.1)\n",
      "('Michael Gaines', 2007, 'TE', 'BUF', 58.5)\n",
      "('Dawson Knox', 2023, 'TE', 'BUF', 54.6)\n",
      "('Jason Croom', 2018, 'TE', 'BUF', 49.900000000000006)\n",
      "('Dave Moore', 2002, 'TE', 'BUF', 42.1)\n",
      "('Tyler Kroft', 2020, 'TE', 'BUF', 41.9)\n",
      "('Charles Clay', 2018, 'TE', 'BUF', 37.400000000000006)\n",
      "('Shawn Nelson', 2009, 'TE', 'BUF', 36.6)\n",
      "('Derek Schouman', 2008, 'TE', 'BUF', 36.3)\n",
      "('Mark Campbell', 2005, 'TE', 'BUF', 32.9)\n",
      "('Tim Euhus', 2004, 'TE', 'BUF', 32.8)\n",
      "('Dave Moore', 2003, 'TE', 'BUF', 27.200000000000003)\n",
      "('Chris Gragg', 2015, 'TE', 'BUF', 27.0)\n",
      "('Derek Fine', 2008, 'TE', 'BUF', 25.4)\n",
      "('Jonathan Stupar', 2010, 'TE', 'BUF', 23.1)\n",
      "('Quintin Morris', 2022, 'TE', 'BUF', 20.4)\n",
      "('Logan Thomas', 2018, 'TE', 'BUF', 20.3)\n",
      "('Logan Thomas', 2017, 'TE', 'BUF', 19.7)\n",
      "('Tommy Sweeney', 2019, 'TE', 'BUF', 19.4)\n",
      "('Tommy Sweeney', 2021, 'TE', 'BUF', 19.4)\n",
      "('Derek Schouman', 2009, 'TE', 'BUF', 19.3)\n",
      "('Tyler Kroft', 2019, 'TE', 'BUF', 19.1)\n",
      "('Dorin Dickerson', 2012, 'TE', 'BUF', 17.900000000000002)\n",
      "('Chris Gragg', 2014, 'TE', 'BUF', 17.8)\n",
      "('David Martin', 2010, 'TE', 'BUF', 17.3)\n",
      "('Chris Gragg', 2013, 'TE', 'BUF', 16.3)\n",
      "('Derek Fine', 2009, 'TE', 'BUF', 15.4)\n",
      "('Quintin Morris', 2024, 'TE', 'BUF', 14.6)\n",
      "('Ryan Neufeld', 2004, 'TE', 'BUF', 12.100000000000001)\n",
      "('Brad Cieslak', 2006, 'TE', 'BUF', 10.600000000000001)\n",
      "('Quintin Morris', 2023, 'TE', 'BUF', 10.6)\n",
      "('Jonathan Stupar', 2009, 'TE', 'BUF', 10.0)\n",
      "('Mike Caussin', 2011, 'TE', 'BUF', 9.100000000000001)\n",
      "('Ryan Neufeld', 2003, 'TE', 'BUF', 8.5)\n",
      "('Ryan Neufeld', 2006, 'TE', 'BUF', 7.4)\n",
      "('Sheldon Jackson', 2001, 'TE', 'BUF', 7.1)\n",
      "('Rod Trafford', 2004, 'TE', 'BUF', 5.5)\n",
      "('David Nelson', 2012, 'TE', 'BUF', 5.1)\n",
      "('Derek Schouman', 2007, 'TE', 'BUF', 4.9)\n",
      "('Tim Euhus', 2005, 'TE', 'BUF', 4.7)\n",
      "('Kevin Brock', 2011, 'TE', 'BUF', 4.7)\n",
      "('Shawn Nelson', 2010, 'TE', 'BUF', 3.5)\n",
      "('Ryan Neufeld', 2007, 'TE', 'BUF', 3.4000000000000004)\n",
      "('Gerald Christian', 2016, 'TE', 'BUF', 2.4000000000000004)\n",
      "('Joe Klopfenstein', 2009, 'TE', 'BUF', 2.1)\n",
      "('Ryan Neufeld', 2005, 'TE', 'BUF', 1.9)\n",
      "('Tommy Sweeney', 2022, 'TE', 'BUF', 1.7000000000000002)\n",
      "('Khari Lee', 2018, 'TE', 'BUF', 1.5)\n",
      "('Zach Davidson', 2024, 'TE', 'BUF', 1.5)\n",
      "('Kevin Everett', 2007, 'TE', 'BUF', 1.3)\n",
      "('MarQueis Gray', 2015, 'TE', 'BUF', 1.2)\n",
      "('Matthew Mulligan', 2015, 'TE', 'BUF', 1.2)\n",
      "('Kevin Everett', 2006, 'TE', 'BUF', 1.1)\n",
      "(\"Dan O'Leary\", 2001, 'TE', 'BUF', 0.0)\n",
      "('Cory Geason', 2002, 'TE', 'BUF', 0.0)\n",
      "('Brady McDonnell', 2002, 'TE', 'BUF', 0.0)\n",
      "('Brad Cieslak', 2005, 'TE', 'BUF', 0.0)\n",
      "('Matt Murphy', 2006, 'TE', 'BUF', 0.0)\n",
      "('Brad Cieslak', 2007, 'TE', 'BUF', 0.0)\n",
      "('Tim Massaquoi', 2007, 'TE', 'BUF', 0.0)\n",
      "('Matt Murphy', 2007, 'TE', 'BUF', 0.0)\n",
      "('Tony Moeaki', 2013, 'TE', 'BUF', 0.0)\n",
      "('Evan Rodriguez', 2013, 'TE', 'BUF', 0.0)\n",
      "('Khari Lee', 2017, 'TE', 'BUF', 0.0)\n",
      "('Jeremiah Sirles', 2018, 'TE', 'BUF', 0.0)\n",
      "('Nate Becker', 2020, 'TE', 'BUF', 0.0)\n"
     ]
    }
   ],
   "source": [
    "# [player for year in players for player in year]\n",
    "desired_teams = {'BUF'}\n",
    "# desired_positions = {'WR', 'RB', 'TE', 'QB'}\n",
    "desired_positions = {'QB', 'WR', 'RB', 'TE'}\n",
    "desired_positions_1 = {'TE'}\n",
    "# if player[3] in desired_teams\n",
    "filtered = [player for year in players for player in year if player[2] in desired_positions_1 and player[3] in desired_teams and player[1] > 2000]\n",
    "sorted_players = sorted(filtered, key=lambda x: x[4], reverse=True)\n",
    "# print(sorted_players)\n",
    "for player in sorted_players:\n",
    "    print(player)"
   ]
  },
  {
   "cell_type": "markdown",
   "id": "73905db7",
   "metadata": {},
   "source": [
    "# Top 10 Qb Seasons Since 2000"
   ]
  },
  {
   "cell_type": "code",
   "execution_count": 8,
   "id": "8d1d3044",
   "metadata": {},
   "outputs": [
    {
     "name": "stdout",
     "output_type": "stream",
     "text": [
      "('Rob Gronkowski*+', 2011, 'TE', 'NWE', 330.90000000000003)\n",
      "('Travis Kelce*+', 2022, 'TE', 'KAN', 316.3)\n",
      "('Travis Kelce*+', 2020, 'TE', 'KAN', 312.76)\n",
      "('Jimmy Graham*+', 2013, 'TE', 'NOR', 303.5)\n",
      "('Mark Andrews*+', 2021, 'TE', 'BAL', 301.1)\n",
      "('Travis Kelce*+', 2018, 'TE', 'KAN', 294.6)\n",
      "('Jimmy Graham*', 2011, 'TE', 'NOR', 294.0)\n",
      "('Zach Ertz*', 2018, 'TE', 'PHI', 280.3)\n",
      "('Darren Waller*', 2020, 'TE', 'LVR', 278.6)\n",
      "('Dallas Clark*+', 2009, 'TE', 'IND', 271.7)\n"
     ]
    }
   ],
   "source": [
    "for player in sorted_players[:10]:\n",
    "    print(player)"
   ]
  },
  {
   "cell_type": "markdown",
   "id": "998d4307",
   "metadata": {},
   "source": [
    "# Top 10 RB Seasons Since 2000"
   ]
  },
  {
   "cell_type": "code",
   "execution_count": 9,
   "id": "b899717d",
   "metadata": {},
   "outputs": [
    {
     "name": "stdout",
     "output_type": "stream",
     "text": [
      "('Rob Gronkowski*+', 2011, 'TE', 'NWE', 330.90000000000003)\n",
      "('Travis Kelce*+', 2022, 'TE', 'KAN', 316.3)\n",
      "('Travis Kelce*+', 2020, 'TE', 'KAN', 312.76)\n",
      "('Jimmy Graham*+', 2013, 'TE', 'NOR', 303.5)\n",
      "('Mark Andrews*+', 2021, 'TE', 'BAL', 301.1)\n",
      "('Travis Kelce*+', 2018, 'TE', 'KAN', 294.6)\n",
      "('Jimmy Graham*', 2011, 'TE', 'NOR', 294.0)\n",
      "('Zach Ertz*', 2018, 'TE', 'PHI', 280.3)\n",
      "('Darren Waller*', 2020, 'TE', 'LVR', 278.6)\n",
      "('Dallas Clark*+', 2009, 'TE', 'IND', 271.7)\n"
     ]
    }
   ],
   "source": [
    "for player in sorted_players[:10]:\n",
    "    print(player)"
   ]
  },
  {
   "cell_type": "markdown",
   "id": "1f923b7e",
   "metadata": {},
   "source": [
    "# Top 10 WR Seasons Since 2000"
   ]
  },
  {
   "cell_type": "code",
   "execution_count": 10,
   "id": "41399023",
   "metadata": {},
   "outputs": [
    {
     "name": "stdout",
     "output_type": "stream",
     "text": [
      "('Rob Gronkowski*+', 2011, 'TE', 'NWE', 330.90000000000003)\n",
      "('Travis Kelce*+', 2022, 'TE', 'KAN', 316.3)\n",
      "('Travis Kelce*+', 2020, 'TE', 'KAN', 312.76)\n",
      "('Jimmy Graham*+', 2013, 'TE', 'NOR', 303.5)\n",
      "('Mark Andrews*+', 2021, 'TE', 'BAL', 301.1)\n",
      "('Travis Kelce*+', 2018, 'TE', 'KAN', 294.6)\n",
      "('Jimmy Graham*', 2011, 'TE', 'NOR', 294.0)\n",
      "('Zach Ertz*', 2018, 'TE', 'PHI', 280.3)\n",
      "('Darren Waller*', 2020, 'TE', 'LVR', 278.6)\n",
      "('Dallas Clark*+', 2009, 'TE', 'IND', 271.7)\n"
     ]
    }
   ],
   "source": [
    "for player in sorted_players[:10]:\n",
    "    print(player)"
   ]
  },
  {
   "cell_type": "markdown",
   "id": "91e43f40",
   "metadata": {},
   "source": [
    "# Top 10 TE Seasons Since 2000"
   ]
  },
  {
   "cell_type": "code",
   "execution_count": 11,
   "id": "059e40fd",
   "metadata": {},
   "outputs": [
    {
     "name": "stdout",
     "output_type": "stream",
     "text": [
      "('Rob Gronkowski*+', 2011, 'TE', 'NWE', 330.90000000000003)\n",
      "('Travis Kelce*+', 2022, 'TE', 'KAN', 316.3)\n",
      "('Travis Kelce*+', 2020, 'TE', 'KAN', 312.76)\n",
      "('Jimmy Graham*+', 2013, 'TE', 'NOR', 303.5)\n",
      "('Mark Andrews*+', 2021, 'TE', 'BAL', 301.1)\n",
      "('Travis Kelce*+', 2018, 'TE', 'KAN', 294.6)\n",
      "('Jimmy Graham*', 2011, 'TE', 'NOR', 294.0)\n",
      "('Zach Ertz*', 2018, 'TE', 'PHI', 280.3)\n",
      "('Darren Waller*', 2020, 'TE', 'LVR', 278.6)\n",
      "('Dallas Clark*+', 2009, 'TE', 'IND', 271.7)\n"
     ]
    }
   ],
   "source": [
    "for player in sorted_players[:10]:\n",
    "    print(player)"
   ]
  }
 ],
 "metadata": {
  "kernelspec": {
   "display_name": "Python 3",
   "language": "python",
   "name": "python3"
  },
  "language_info": {
   "codemirror_mode": {
    "name": "ipython",
    "version": 3
   },
   "file_extension": ".py",
   "mimetype": "text/x-python",
   "name": "python",
   "nbconvert_exporter": "python",
   "pygments_lexer": "ipython3",
   "version": "3.11.9"
  }
 },
 "nbformat": 4,
 "nbformat_minor": 5
}
